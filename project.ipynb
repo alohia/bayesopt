{
 "cells": [
  {
   "cell_type": "code",
   "execution_count": 22,
   "metadata": {
    "collapsed": true
   },
   "outputs": [],
   "source": [
    "import numpy as np\n",
    "import pandas as pd\n",
    "import math as mat"
   ]
  },
  {
   "cell_type": "code",
   "execution_count": 27,
   "metadata": {
    "collapsed": true
   },
   "outputs": [],
   "source": [
    "def gaussian_kernel(x1,x2,noise,length):\n",
    "    n1 = x1.shape[0]\n",
    "    n2 = x2.shape[0]\n",
    "    kernel = np.zeros((n1,n2))\n",
    "    for i in range(n1):\n",
    "        for j in range(n2):\n",
    "            kernel[i,j] = noise**2*mat.exp(-0.5*((x1[i]-x2[j])/length)**2)\n",
    "    return kernel\n"
   ]
  },
  {
   "cell_type": "code",
   "execution_count": 4,
   "metadata": {
    "collapsed": true
   },
   "outputs": [],
   "source": [
    "def LLH_GP(data,m,noise,length):\n",
    "    x = np.array(data['x'])\n",
    "    y = np.array(data['y'])\n",
    "    ker = gaussian_kernel(x,x, sigma, length)\n",
    "    return -1/2*(log(np.linalg.det(ker))+np.dot(np.dot(np.transpose(y-m),\n",
    "                                                       np.linalg.inv(ker)),(y-m)))\n",
    "\n"
   ]
  },
  {
   "cell_type": "code",
   "execution_count": 28,
   "metadata": {},
   "outputs": [
    {
     "data": {
      "text/plain": [
       "array([[  1.00000000e+00,   9.99197113e-01,   9.96792317e-01, ...,\n",
       "          6.85444032e-87,   3.08238327e-87,   1.38389653e-87],\n",
       "       [  9.99197113e-01,   1.00000000e+00,   9.99197113e-01, ...,\n",
       "          1.52180743e-86,   6.85444032e-87,   3.08238327e-87],\n",
       "       [  9.96792317e-01,   9.99197113e-01,   1.00000000e+00, ...,\n",
       "          3.37325944e-86,   1.52180743e-86,   6.85444032e-87],\n",
       "       ..., \n",
       "       [  6.85444032e-87,   1.52180743e-86,   3.37325944e-86, ...,\n",
       "          1.00000000e+00,   9.99197113e-01,   9.96792317e-01],\n",
       "       [  3.08238327e-87,   6.85444032e-87,   1.52180743e-86, ...,\n",
       "          9.99197113e-01,   1.00000000e+00,   9.99197113e-01],\n",
       "       [  1.38389653e-87,   3.08238327e-87,   6.85444032e-87, ...,\n",
       "          9.96792317e-01,   9.99197113e-01,   1.00000000e+00]])"
      ]
     },
     "execution_count": 28,
     "metadata": {},
     "output_type": "execute_result"
    }
   ],
   "source": [
    "n = 500\n",
    "x = np.linspace(-10,10,n)\n",
    "noise = 1\n",
    "length = 1\n",
    "gaussian_kernel(x,x, noise = noise, length = length)"
   ]
  },
  {
   "cell_type": "code",
   "execution_count": null,
   "metadata": {
    "collapsed": true
   },
   "outputs": [],
   "source": []
  },
  {
   "cell_type": "code",
   "execution_count": null,
   "metadata": {
    "collapsed": true
   },
   "outputs": [],
   "source": []
  }
 ],
 "metadata": {
  "anaconda-cloud": {},
  "kernelspec": {
   "display_name": "Python [Root]",
   "language": "python",
   "name": "Python [Root]"
  },
  "language_info": {
   "codemirror_mode": {
    "name": "ipython",
    "version": 3
   },
   "file_extension": ".py",
   "mimetype": "text/x-python",
   "name": "python",
   "nbconvert_exporter": "python",
   "pygments_lexer": "ipython3",
   "version": "3.5.3"
  }
 },
 "nbformat": 4,
 "nbformat_minor": 2
}
