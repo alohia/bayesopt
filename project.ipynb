{
 "cells": [
  {
   "cell_type": "markdown",
   "metadata": {},
   "source": [
    "\n",
    "# Bayesian Optimization\n",
    "# Optimizing the SGD Learning Rate when Training a Neural Network\n",
    "\n",
    "### Roger Garrida\n",
    "### Akhil Lohia\n",
    "### Daniel Velasquez"
   ]
  },
  {
   "cell_type": "markdown",
   "metadata": {},
   "source": [
    "# Introduction \n",
    "\n",
    "\n",
    "Training a neural network can be a difficult task. In particular, due to the large number of hyperparameters that need to be tunned, e.g. number of layers, number of hidden units, batch size among other. In this project, we focus on one particular hyperparameter that influence directly the success of the learning procedure: The stochastic gradient descent **learning rate **. We use bayesian optimization to tune the learning rate and compare the results with a grid search."
   ]
  },
  {
   "cell_type": "code",
   "execution_count": 1,
   "metadata": {
    "collapsed": true
   },
   "outputs": [],
   "source": [
    "#Required libraries\n",
    "import numpy as np\n",
    "import tensorflow as tf\n",
    "from tensorflow.examples.tutorials.mnist import input_data\n",
    "from sklearn.gaussian_process import GaussianProcessRegressor\n",
    "import pandas as pd\n",
    "import math as mat\n",
    "import scipy\n",
    "from scipy.stats import norm\n",
    "from scipy import optimize\n",
    "import matplotlib.pyplot as plt\n",
    "import seaborn as sns\n"
   ]
  },
  {
   "cell_type": "markdown",
   "metadata": {},
   "source": [
    "## Gaussian Process"
   ]
  },
  {
   "cell_type": "code",
   "execution_count": 2,
   "metadata": {
    "collapsed": true
   },
   "outputs": [],
   "source": [
    "def gaussian_kernel(x1,x2,noise,length): #Generate the kernel (cov) of the Gaussian Process\n",
    "    n1 = x1.shape[0]\n",
    "    n2 = x2.shape[0]\n",
    "    kernel = np.zeros((n1,n2))\n",
    "    for i in range(n1):\n",
    "        for j in range(n2):\n",
    "            kernel[i,j] = noise**2*mat.exp(-0.5*((x1[i]-x2[j])/length)**2)\n",
    "    return kernel\n"
   ]
  },
  {
   "cell_type": "code",
   "execution_count": 3,
   "metadata": {
    "collapsed": true
   },
   "outputs": [],
   "source": [
    "def LLH_GP(x,y,m,noise,length, sf = 0): #Compute the likelihood of the data (add sf if consider noise)\n",
    "    ker = gaussian_kernel(x,x, noise, length)\n",
    "    ker = ker+np.diag([sf]*len(x))\n",
    "    return 1/2*(mat.log(np.linalg.det(ker))+np.dot(np.dot(np.transpose(y-m),\n",
    "                                                       np.linalg.inv(ker)),(y-m)))\n"
   ]
  },
  {
   "cell_type": "code",
   "execution_count": 4,
   "metadata": {
    "collapsed": true
   },
   "outputs": [],
   "source": [
    "def opt_hyparams(x,y): #Find the hyperparameters that optimize LLH without noise\n",
    "    ini = np.array([0,1,1])\n",
    "    opt = optimize.minimize(lambda params: LLH_GP(x, y, params[0], params[1], params[2]),\n",
    "                            ini)\n",
    "    params = opt.x\n",
    "    m = params[0]\n",
    "    noise = abs(params[1])\n",
    "    length = abs(params[2])\n",
    "    sf = 0\n",
    "    return m, noise, length, sf  "
   ]
  },
  {
   "cell_type": "code",
   "execution_count": 5,
   "metadata": {
    "collapsed": true
   },
   "outputs": [],
   "source": [
    "def opt_hyparams_noise(x,y): #Find the hyperparameters that optimize LLH with noise\n",
    "    ini = np.array([0,1,1,1])\n",
    "    opt = optimize.minimize(lambda params: LLH_GP(x, y, params[0], \n",
    "                                                  params[1], params[2], params[3]),ini)\n",
    "    params = opt.x\n",
    "    m = params[0]\n",
    "    noise = abs(params[1])\n",
    "    length = abs(params[2])\n",
    "    sf = abs(params[3])\n",
    "    return m, noise, length, sf"
   ]
  },
  {
   "cell_type": "code",
   "execution_count": 6,
   "metadata": {
    "collapsed": true
   },
   "outputs": [],
   "source": [
    "#Generates the mean and covariance of the posterior distribution in the given grid (xn) \n",
    "#from data (x,y) and the optimized parameters (mean->m, noise, length, noise in y -> sf)\n",
    "def gp_posterior(x, y, xn, m, noise, length, sf = 0): \n",
    "    kxx = gaussian_kernel(x, x, noise = noise, length = length)\n",
    "    kxxn = gaussian_kernel(x, xn, noise = noise, length = length)\n",
    "    kxnx = gaussian_kernel(xn, x, noise = noise, length = length)\n",
    "    kxnxn = gaussian_kernel(xn, xn, noise = noise, length = length)\n",
    "    core = np.linalg.inv(kxx + np.diag([sf]*len(x)))\n",
    "    En = np.dot(np.dot(kxnx, core), y)\n",
    "    covn = kxnxn - np.dot(np.dot(kxnx, core), kxxn)  \n",
    "    \n",
    "    return En, covn"
   ]
  },
  {
   "cell_type": "code",
   "execution_count": 7,
   "metadata": {
    "collapsed": true
   },
   "outputs": [],
   "source": [
    "def data_posterior(x, E, cov):\n",
    "    data = pd.DataFrame({'x': x})\n",
    "    data['Mean'] = E\n",
    "    data['StdDev'] = np.sqrt(np.diag(cov))\n",
    "    #Generate the 5 samples as multivariate normals with 0 mean and covariance sigma\n",
    "    for i in range(5):\n",
    "        data['y'+str(i)] = np.random.multivariate_normal(E, cov)\n",
    "    return data\n"
   ]
  },
  {
   "cell_type": "markdown",
   "metadata": {
    "collapsed": true
   },
   "source": [
    "# Neural Network Architecture and Dataset\n",
    "\n",
    "Our goal is to perform classification on the MNIST dataset. To do so, we build a neural network with one hidden layer and a fixed number of hidden units. We divide the dataset in training and test sample. We define a function that trains the network as a function of the learning rate and returns a measure of accuracy estimated using the test sample. The accuracy corresponds the number of correctly classified observations divided by the total number of observations within the test sample. "
   ]
  },
  {
   "cell_type": "code",
   "execution_count": 8,
   "metadata": {
    "collapsed": false
   },
   "outputs": [
    {
     "name": "stdout",
     "output_type": "stream",
     "text": [
      "Extracting MNIST_data/train-images-idx3-ubyte.gz\n",
      "Extracting MNIST_data/train-labels-idx1-ubyte.gz\n",
      "Extracting MNIST_data/t10k-images-idx3-ubyte.gz\n",
      "Extracting MNIST_data/t10k-labels-idx1-ubyte.gz\n"
     ]
    }
   ],
   "source": [
    "#MNIST dataset:\n",
    "mnist = input_data.read_data_sets(\"MNIST_data/\", one_hot=True)\n"
   ]
  },
  {
   "cell_type": "code",
   "execution_count": 9,
   "metadata": {
    "collapsed": true
   },
   "outputs": [],
   "source": [
    "#placeholder:\n",
    "x = tf.placeholder(tf.float32, shape=[None, 784])\n",
    "y_ = tf.placeholder(tf.float32, shape=[None, 10])\n",
    "\n",
    "##Variables:\n",
    "def weight_variable(shape):\n",
    "    initial = tf.truncated_normal(shape, stddev=0.1)\n",
    "    return tf.Variable(initial)\n",
    "\n",
    "def bias_variable(shape):\n",
    "    initial = tf.constant(0.1, shape=shape)\n",
    "    return tf.Variable(initial)\n",
    "\n",
    "def neural_network(input, h_dim):\n",
    "    W0 = weight_variable([784, h_dim])\n",
    "    b0 = bias_variable([h_dim])\n",
    "    h = tf.nn.relu(tf.matmul(input, W0) + b0)\n",
    "\n",
    "    W = weight_variable([h_dim, 10])\n",
    "    b = bias_variable([10])\n",
    "\n",
    "    y = tf.nn.softmax(tf.matmul(h, W) + b)\n",
    "    return y\n",
    "\n",
    "#Network training:\n",
    "def nn_train(learning_rate, h_dim, minibatch = 100):\n",
    "    y = neural_network(x, h_dim)\n",
    "    cross_entropy = tf.reduce_mean(tf.nn.softmax_cross_entropy_with_logits(labels=y_, logits=y))\n",
    "    #train_step = tf.train.MomentumOptimizer(learning_rate, 0.5).minimize(cross_entropy)\n",
    "    train_step = tf.train.GradientDescentOptimizer(learning_rate).minimize(cross_entropy)\n",
    "    n_samples = len(mnist.train.images)\n",
    "    tf.global_variables_initializer().run()\n",
    "    for _ in range(5000):\n",
    "        batch_xs, batch_ys = mnist.train.next_batch(minibatch) #These variables are numpy arrays\n",
    "        sess.run(train_step, feed_dict={x: batch_xs, y_: batch_ys})\n",
    "\n",
    "    correct_prediction = tf.equal(tf.argmax(y,1), tf.argmax(y_,1))\n",
    "    accuracy = tf.reduce_mean(tf.cast(correct_prediction, tf.float32))\n",
    "\n",
    "    return(accuracy.eval(feed_dict={x: mnist.test.images, y_: mnist.test.labels}))\n",
    "\n"
   ]
  },
  {
   "cell_type": "markdown",
   "metadata": {
    "collapsed": true
   },
   "source": [
    "# Adquisition Function\n",
    "\n",
    "We start with a gaussian prior on the hyperparameters. We define an adquisicion function that allows us to select a new learning rate to test. In particual we use *expected improvement*. With each new value, we train the network and use the output (the classification accuracy) to update the prior density. \n"
   ]
  },
  {
   "cell_type": "code",
   "execution_count": 10,
   "metadata": {
    "collapsed": true
   },
   "outputs": [],
   "source": [
    "#Adquisition function\n",
    "\n",
    "def acquisition_fun(x, y, xn, mean_vector, sigma_vector):\n",
    "    x_best = x[np.argmax(y)]\n",
    "    y_best = np.max(y)\n",
    "    ind_cand = np.array([not any(abs(xi-x)<=0.00001) for xi in xn]) #Indicator of candidates\n",
    "    gamma = (mean_vector[ind_cand] - y_best)/sigma_vector[ind_cand]\n",
    "    af = (mean_vector[ind_cand] - y_best)* norm.cdf(gamma) + norm.pdf(gamma)\n",
    "\n",
    "    x_next = xn[ind_cand][np.argmax(af)]\n",
    "    return x_next\n"
   ]
  },
  {
   "cell_type": "markdown",
   "metadata": {
    "collapsed": true
   },
   "source": [
    "# Algorithm\n",
    "\n",
    "\n",
    "Initially, we assume we only observe 2 potential learning rates and their corresponding mean function. We implement an algorithm that, given some prior on the learning rate, at each iteration use the acquisition function to select a new candidate learning rate, trains the network and estimates the posterior density. The plots below show the evolution of the algorithm. "
   ]
  },
  {
   "cell_type": "code",
   "execution_count": 12,
   "metadata": {
    "collapsed": false
   },
   "outputs": [
    {
     "name": "stderr",
     "output_type": "stream",
     "text": [
      "/Users/veldanie/cml-env/lib/python3.6/site-packages/ipykernel/__main__.py:7: RuntimeWarning: covariance is not positive-semidefinite.\n"
     ]
    },
    {
     "data": {
      "image/png": "[encoded data removed]",
      "text/plain": [
       "<matplotlib.figure.Figure at 0x11e13b0b8>"
      ]
     },
     "metadata": {},
     "output_type": "display_data"
    },
    {
     "name": "stdout",
     "output_type": "stream",
     "text": [
      "Initial Learning rates: [ 0.5  8. ]\n",
      "Accuracy: [0.9418, 0.90539998]\n"
     ]
    }
   ],
   "source": [
    "\n",
    "sess = tf.InteractiveSession()\n",
    "h_dim = 20 # Fixed number of hidden dimensions\n",
    "n = 500 # Number of point in the grid.\n",
    "xn = np.arange(0,10,10/n)\n",
    "\n",
    "l_rates = np.array([0.5, 8]) # Initial leeaning rates\n",
    "f = [nn_train(l, h_dim) for l in l_rates] #Accuracy\n",
    "\n",
    "noise = 1;length =1; m=0\n",
    "m, noise, length, sf = opt_hyparams(l_rates,f)\n",
    "E, cov = gp_posterior(l_rates, f, xn, m, noise, length, sf)\n",
    "data = data_posterior(xn, E, cov)\n",
    "\n",
    "#This plot shows the mean and variance with two initial observations:\n",
    "plt.plot(data['x'],data['Mean'], color = 'black', label = 'Mean')\n",
    "plt.plot(l_rates,f, 'ro', label = 'Obs')\n",
    "plt.fill_between(data['x'], data['Mean']-data['StdDev'], data['Mean']+data['StdDev'],color = 'lightgrey')\n",
    "plt.show()\n",
    "\n",
    "print ('Initial Learning rates:', l_rates)\n",
    "print ('Accuracy:', f)"
   ]
  },
  {
   "cell_type": "markdown",
   "metadata": {
    "collapsed": true
   },
   "source": [
    "Now we perform 5 interations and observe the result:"
   ]
  },
  {
   "cell_type": "code",
   "execution_count": 13,
   "metadata": {
    "collapsed": false
   },
   "outputs": [
    {
     "name": "stderr",
     "output_type": "stream",
     "text": [
      "/Users/veldanie/cml-env/lib/python3.6/site-packages/ipykernel/__main__.py:7: RuntimeWarning: covariance is not positive-semidefinite.\n"
     ]
    },
    {
     "data": {
      "image/png": "[encoded data removed]",
      "text/plain": [
       "<matplotlib.figure.Figure at 0x105159400>"
      ]
     },
     "metadata": {},
     "output_type": "display_data"
    }
   ],
   "source": [
    "#If sf is used, we have to use opt_hyparams_noise, otherwise use opt_hyparams. \n",
    "n_iter = 5\n",
    "\n",
    "for i in range(n_iter):    \n",
    "    next_candidate = acquisition_fun(l_rates, f, xn, np.array(data['Mean']), np.array(data['StdDev']))\n",
    "    l_rates = np.append(l_rates,next_candidate)\n",
    "    f = np.append(f,nn_train(next_candidate, h_dim))\n",
    "    E, cov = gp_posterior(l_rates, f, xn, m, noise, length, sf)\n",
    "    data = data_posterior(xn, E, cov)\n",
    "\n",
    "    try:\n",
    "        m, noise, length, sf = opt_hyparams_noise(l_rates,f)\n",
    "    except ValueError:\n",
    "        m, noise, length, sf = m, noise, length, sf\n",
    "\n",
    "\n",
    "plt.plot(data['x'],data['Mean'], color = 'black', label = 'Mean')\n",
    "plt.plot(l_rates,f, 'ro', label = 'Obs')\n",
    "plt.fill_between(data['x'], data['Mean']-data['StdDev'], data['Mean']+data['StdDev'],color = 'lightgrey')\n",
    "\n",
    "plt.legend()\n",
    "plt.show()\n"
   ]
  }
 ],
 "metadata": {
  "anaconda-cloud": {},
  "kernelspec": {
   "display_name": "Python 3",
   "language": "python",
   "name": "python3"
  },
  "language_info": {
   "codemirror_mode": {
    "name": "ipython",
    "version": 3
   },
   "file_extension": ".py",
   "mimetype": "text/x-python",
   "name": "python",
   "nbconvert_exporter": "python",
   "pygments_lexer": "ipython3",
   "version": "3.6.0"
  }
 },
 "nbformat": 4,
 "nbformat_minor": 2
}
